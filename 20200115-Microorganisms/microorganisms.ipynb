{
 "cells": [
  {
   "cell_type": "markdown",
   "source": [
    "# Microorganisms project"
   ],
   "metadata": {
    "collapsed": false
   }
  },
  {
   "cell_type": "code",
   "execution_count": 1,
   "outputs": [],
   "source": [
    "import pandas as pd\n",
    "import numpy as np\n",
    "from scipy import stats"
   ],
   "metadata": {
    "collapsed": false,
    "pycharm": {
     "name": "#%%\n",
     "is_executing": false
    }
   }
  },
  {
   "cell_type": "markdown",
   "source": [
    "## Reading the source file (SQL)\n",
    "\n",
    "The first problem seems to be reading the data file, since I'd really rather not have to load it into a SQL database just to read it into Pandas. But it turns out it's not really a SQL file. Looks like tab-delimited data, not what I expected from a file with a `.sql` extension (i.e., the output of `mysql dump`).\n",
    "\n",
    "TIL - Juptyer notebooks can [run/output shell commands directly](https://ipython.org/ipython-doc/3/interactive/reference.html#system-shell-access)."
   ],
   "metadata": {
    "collapsed": false,
    "pycharm": {
     "name": "#%% md\n"
    }
   }
  },
  {
   "cell_type": "code",
   "execution_count": 2,
   "metadata": {
    "collapsed": true,
    "pycharm": {
     "is_executing": false
    }
   },
   "outputs": [
    {
     "name": "stdout",
     "text": [
      "1\tViruses\tViruses noname\tViruses noname\tCaudovirales\tPodoviridae\tT7likevirus\tYersinia phage phiYeO3 12\t\\N\t\\N\t\\N\t\\N\t\\N\t\\N\t\\N\t\\N\t0\tPajunen MI, Kiljunen SJ, Söderholm ME, Skurnik M. Complete genomic sequence of the lytic bacteriophage phiYeO3-12 of Yersinia enterocolitica serotype O:3. J Bacteriol. 2001 Mar;183(6):1928-37.______http://www.ncbi.nlm.nih.gov/genome/?term=txid110457______http://www.phisite.org/main/index.php?nav=phages&nav_sel=features&phage_id=NC_001271%3B39600%3B1%3B1%3B1&ID=null&begin=begin&end=end&strand=both\t0\tPajunen MI, Kiljunen SJ, Söderholm ME, Skurnik M. Complete genomic sequence of the lytic bacteriophage phiYeO3-12 of Yersinia enterocolitica serotype O:3. J Bacteriol. 2001 Mar;183(6):1928-37.______http://www.ncbi.nlm.nih.gov/genome/?term=txid110457______http://www.phisite.org/main/index.php?nav=phages&nav_sel=features&phage_id=NC_001271%3B39600%3B1%3B1%3B1&ID=null&begin=begin&end=end&strand=both\t0\tPajunen MI, Kiljunen SJ, Söderholm ME, Skurnik M. Complete genomic sequence of the lytic bacteriophage phiYeO3-12 of Yersinia enterocolitica serotype O:3. J Bacteriol. 2001 Mar;183(6):1928-37.______http://www.ncbi.nlm.nih.gov/genome/?term=txid110457______http://www.phisite.org/main/index.php?nav=phages&nav_sel=features&phage_id=NC_001271%3B39600%3B1%3B1%3B1&ID=null&begin=begin&end=end&strand=both\t\\N\t\\N\t\\N\t\\N\t0\tPajunen MI, Kiljunen SJ, Söderholm ME, Skurnik M. Complete genomic sequence of the lytic bacteriophage phiYeO3-12 of Yersinia enterocolitica serotype O:3. J Bacteriol. 2001 Mar;183(6):1928-37.______http://www.ncbi.nlm.nih.gov/genome/?term=txid110457______http://www.phisite.org/main/index.php?nav=phages&nav_sel=features&phage_id=NC_001271%3B39600%3B1%3B1%3B1&ID=null&begin=begin&end=end&strand=both\t0\tPajunen MI, Kiljunen SJ, Söderholm ME, Skurnik M. Complete genomic sequence of the lytic bacteriophage phiYeO3-12 of Yersinia enterocolitica serotype O:3. J Bacteriol. 2001 Mar;183(6):1928-37.______http://www.ncbi.nlm.nih.gov/genome/?term=txid110457______http://www.phisite.org/main/index.php?nav=phages&nav_sel=features&phage_id=NC_001271%3B39600%3B1%3B1%3B1&ID=null&begin=begin&end=end&strand=both\r\n",
      "2\tBacteria\tProteobacteria\tBetaproteobacteria\tBurkholderiales\tBurkholderiaceae\tBurkholderia\tBurkholderia thailandensis\t\\N\t\\N\t\\N\t\\N\t\\N\t\\N\t\\N\t\\N\t\\N\t\\N\t\\N\t\\N\t0\thttp://www.straininfo.net/genomes/10774\t0\thttp://iai.asm.org/content/76/11/5402.full\t1\t\\N\t1\thttps://microbewiki.kenyon.edu/index.php/Burkholderia\t\\N\t\\N\r\n",
      "3\tViruses\tViruses noname\tViruses noname\tViruses noname\tViruses noname\tViruses noname\tCucumber mosaic virus satellite RN/A\t\\N\t\\N\t\\N\t\\N\t\\N\t\\N\t\\N\t\\N\t\\N\t\\N\t\\N\t\\N\t\\N\t\\N\t\\N\t\\N\t0\thttp://www.sciencedirect.com/science/article/pii/0042682281904761\t1\thttp://www.sciencedirect.com/science/article/pii/0042682281904761\t0\thttp://www.sciencedirect.com/science/article/pii/0042682281904761\r\n",
      "4\tViruses\tViruses noname\tViruses noname\tTymovirales\tAlphaflexiviridae\tPotexvirus\tMint virus X\t\\N\t\\N\t\\N\t\\N\t\\N\t\\N\t\\N\t\\N\t\\N\t\\N\t\\N\t\\N\t\\N\t\\N\t\\N\t\\N\t\\N\t\\N\t1\thttps://gold.jgi.doe.gov/organisms?id=Go0081973\t\\N\t\\N\r\n",
      "5\tViruses\tViruses noname\tViruses noname\tViruses noname\tPoxviridae\tOrthopoxvirus\tTaterapox virus\t\\N\t\\N\t\\N\t\\N\t\\N\t\\N\t0\t\\N\t\\N\t\\N\t\\N\t\\N\t0\t\\N\t\\N\t\\N\t\\N\t\\N\t\\N\t\\N\t\\N\t\\N\r\n",
      "6\tViruses\tViruses noname\tViruses noname\tViruses noname\tCaliciviridae\tCaliciviridae noname\tCalicivirus isolate TCG\t6.4\thttps://www.atcc.org/Products/All/VR-430.aspx#characteristics\t30\thttps://www.atcc.org/Products/All/VR-430.aspx#characteristics\t2\thttps://www.atcc.org/Products/All/VR-430.aspx#characteristics\t0\thttp://ardb.cbcb.umd.edu/cgi/search.cgi?db=A&term=Shamonda+virus&field=af\t\\N\t\\N\t\\N\t\\N\t\\N\t\\N\t\\N\t\\N\t0\thttps://www.atcc.org/Products/All/VR-430.aspx#characteristics\t1\thttps://en.wikipedia.org/wiki/Orthobunyavirus\t1\thttps://www.atcc.org/Products/All/VR-430.aspx#characteristics\r\n",
      "7\tBacteria\tFusobacteria\tFusobacteriia\tFusobacteriales\tFusobacteriaceae\tFusobacterium\tFusobacterium necrophorum\t7\thttp://cmr.asm.org/content/20/4/622.full , http://ardb.cbcb.umd.edu/cgi/search.cgi?db=G&and0=O&term=Fusobacterium necrophorum&field=af&\t30\thttp://cmr.asm.org/content/20/4/622.full , http://ardb.cbcb.umd.edu/cgi/search.cgi?db=G&and0=O&term=Fusobacterium necrophorum&field=af&\t2\thttp://cmr.asm.org/content/20/4/622.full , http://ardb.cbcb.umd.edu/cgi/search.cgi?db=G&and0=O&term=Fusobacterium necrophorum&field=af&\t1\thttp://cmr.asm.org/content/20/4/622.full , http://ardb.cbcb.umd.edu/cgi/search.cgi?db=G&and0=O&term=Fusobacterium necrophorum&field=af&\t0\thttp://cmr.asm.org/content/20/4/622.full , http://ardb.cbcb.umd.edu/cgi/search.cgi?db=G&and0=O&term=Fusobacterium necrophorum&field=af&\t\\N\t\\N\t0\thttp://cmr.asm.org/content/20/4/622.full , http://ardb.cbcb.umd.edu/cgi/search.cgi?db=G&and0=O&term=Fusobacterium necrophorum&field=af&\t0\thttp://cmr.asm.org/content/20/4/622.full , http://ardb.cbcb.umd.edu/cgi/search.cgi?db=G&and0=O&term=Fusobacterium necrophorum&field=af&\t1\thttp://cmr.asm.org/content/20/4/622.full , http://ardb.cbcb.umd.edu/cgi/search.cgi?db=G&and0=O&term=Fusobacterium necrophorum&field=af&\t0\thttp://cmr.asm.org/content/20/4/622.full , http://ardb.cbcb.umd.edu/cgi/search.cgi?db=G&and0=O&term=Fusobacterium necrophorum&field=af&\t1\thttp://cmr.asm.org/content/20/4/622.full , http://ardb.cbcb.umd.edu/cgi/search.cgi?db=G&and0=O&term=Fusobacterium necrophorum&field=af&\r\n",
      "8\tBacteria\tActinobacteria\tActinobacteria\tActinomycetales\tActinomycetaceae\tActinomyces\tActinomyces naeslundii\t\\N\t\\N\t37\thttps://microbewiki.kenyon.edu/index.php/Actinomyces_naeslundii\t2\thttps://microbewiki.kenyon.edu/index.php/Actinomyces_naeslundii\t\\N\t\\N\t0\thttps://microbewiki.kenyon.edu/index.php/Actinomyces_naeslundii\t\\N\t\\N\t0\thttps://microbewiki.kenyon.edu/index.php/Actinomyces_naeslundii\t1\thttps://microbewiki.kenyon.edu/index.php/Actinomyces_naeslundii\t1\thttps://microbewiki.kenyon.edu/index.php/Actinomyces_naeslundii\t0\thttps://microbewiki.kenyon.edu/index.php/Actinomyces_naeslundii\t0\thttps://microbewiki.kenyon.edu/index.php/Actinomyces_naeslundii\r\n",
      "9\tBacteria\tProteobacteria\tDeltaproteobacteria\tDesulfobacterales\tDesulfobulbaceae\tDesulfotalea\tDesulfotalea psychrophila\t7.55\thttps://microbewiki.kenyon.edu/index.php/Desulfotalea_psychrophila\t\\N\t\\N\t1\tCOGEM pdf\t\\N\t\\N\t0\thttps://microbewiki.kenyon.edu/index.php/Desulfotalea_psychrophila\t\\N\t\\N\t1\thttps://microbewiki.kenyon.edu/index.php/Desulfotalea_psychrophila\t0\thttps://img.jgi.doe.gov/cgi-bin/m/main.cgi?section=TaxonDetail&page=taxonDetail&taxon_oid=637000094\t\\N\t\\N\t\\N\t\\N\t\\N\t\\N\r\n",
      "10\tViruses\tViruses noname\tViruses noname\tCaudovirales\tSiphoviridae\tSiphoviridae noname\tLactobacillus prophage Lj965\t\\N\t\\N\t\\N\t\\N\t\\N\t\\N\t\\N\t\\N\t0\tVentura M, Canchaya C, Pridmore RD, Brüssow H. The prophages of Lactobacillus johnsonii NCC 533: comparative genomics and transcription analysis. Virology. 2004 Mar 15;320(2):229-42._____http://www.ncbi.nlm.nih.gov/genome/?term=txid139870_______http://www.phisite.org/main/index.php?nav=phages&nav_sel=features&phage_id=NC_005355%3B40190%3B1%3B1%3B1&ID=null&begin=begin&end=end&strand=both\t0\tVentura M, Canchaya C, Pridmore RD, Brüssow H. The prophages of Lactobacillus johnsonii NCC 533: comparative genomics and transcription analysis. Virology. 2004 Mar 15;320(2):229-42._____http://www.ncbi.nlm.nih.gov/genome/?term=txid139870_______http://www.phisite.org/main/index.php?nav=phages&nav_sel=features&phage_id=NC_005355%3B40190%3B1%3B1%3B1&ID=null&begin=begin&end=end&strand=both\t0\tVentura M, Canchaya C, Pridmore RD, Brüssow H. The prophages of Lactobacillus johnsonii NCC 533: comparative genomics and transcription analysis. Virology. 2004 Mar 15;320(2):229-42._____http://www.ncbi.nlm.nih.gov/genome/?term=txid139870_______http://www.phisite.org/main/index.php?nav=phages&nav_sel=features&phage_id=NC_005355%3B40190%3B1%3B1%3B1&ID=null&begin=begin&end=end&strand=both\t\\N\t\\N\t\\N\t\\N\t0\tVentura M, Canchaya C, Pridmore RD, Brüssow H. The prophages of Lactobacillus johnsonii NCC 533: comparative genomics and transcription analysis. Virology. 2004 Mar 15;320(2):229-42._____http://www.ncbi.nlm.nih.gov/genome/?term=txid139870_______http://www.phisite.org/main/index.php?nav=phages&nav_sel=features&phage_id=NC_005355%3B40190%3B1%3B1%3B1&ID=null&begin=begin&end=end&strand=both\t0\tVentura M, Canchaya C, Pridmore RD, Brüssow H. The prophages of Lactobacillus johnsonii NCC 533: comparative genomics and transcription analysis. Virology. 2004 Mar 15;320(2):229-42._____http://www.ncbi.nlm.nih.gov/genome/?term=txid139870_______http://www.phisite.org/main/index.php?nav=phages&nav_sel=features&phage_id=NC_005355%3B40190%3B1%3B1%3B1&ID=null&begin=begin&end=end&strand=both\r\n"
     ],
     "output_type": "stream"
    }
   ],
   "source": [
    "!head data/THE.MICROBE.DIRECTORY.sql\n",
    "\n",
    "data = pd.read_csv('data/THE.MICROBE.DIRECTORY.sql', sep='\\t')"
   ]
  },
  {
   "cell_type": "code",
   "execution_count": 3,
   "outputs": [
    {
     "data": {
      "text/plain": "(8211, 30)"
     },
     "metadata": {},
     "output_type": "execute_result",
     "execution_count": 3
    }
   ],
   "source": [
    "data.head()\n",
    "data.shape"
   ],
   "metadata": {
    "collapsed": false,
    "pycharm": {
     "name": "#%%\n",
     "is_executing": false
    }
   }
  },
  {
   "cell_type": "markdown",
   "source": [
    "The data dump provided on their website lacks column names, but they also maintain a [github repo](https://github.com/microbe-directory/microbe-directory) with a csv file which _does_ have column names. So let's use that instead."
   ],
   "metadata": {
    "collapsed": false,
    "pycharm": {
     "name": "#%% md\n"
    }
   }
  },
  {
   "cell_type": "code",
   "execution_count": 4,
   "outputs": [
    {
     "data": {
      "text/plain": "(7678, 30)"
     },
     "metadata": {},
     "output_type": "execute_result",
     "execution_count": 4
    }
   ],
   "source": [
    "data2 = pd.read_csv('data/microbe-directory.csv')\n",
    "data2.head()\n",
    "data2.shape"
   ],
   "metadata": {
    "collapsed": false,
    "pycharm": {
     "name": "#%%\n",
     "is_executing": false
    }
   }
  },
  {
   "cell_type": "markdown",
   "source": [
    "_le sigh_ \n",
    "\n",
    "The data aren't the same in the two sets. The dump on their website has 8211 rows but the github file has 7678 rows."
   ],
   "metadata": {
    "collapsed": false,
    "pycharm": {
     "name": "#%% md\n"
    }
   }
  },
  {
   "cell_type": "code",
   "execution_count": 5,
   "outputs": [
    {
     "data": {
      "text/plain": "         1   Viruses  Viruses noname     Viruses noname.1     Caudovirales  \\\n8206  7664  Bacteria  Proteobacteria  Gammaproteobacteria     Chromatiales   \n8207  7665  Bacteria  Proteobacteria   Betaproteobacteria  Burkholderiales   \n8208  7666  Bacteria  Actinobacteria       Actinobacteria  Actinomycetales   \n8209  7667   Viruses  Viruses noname       Viruses noname     Caudovirales   \n8210  7668       qqq             www                  eee              rrr   \n\n                 Podoviridae          T7likevirus Yersinia phage phiYeO3 12  \\\n8206  Ectothiorhodospiraceae     Thioalkalivibrio  Thioalkalivibrio sp ALJ3   \n8207        Burkholderiaceae         Burkholderia     Burkholderia sp RPE64   \n8208       Streptomycetaceae         Streptomyces   Streptomyces ghanaensis   \n8209            Siphoviridae  Siphoviridae noname   Pseudomonas phage JBD24   \n8210                    tttt                  yyy                qqqaaaazzz   \n\n        \\N               \\N.1  ... 0.2  \\\n8206    \\N                 \\N  ...   1   \n8207    \\N                 \\N  ...  \\N   \n8208    \\N                 \\N  ...   0   \n8209    \\N                 \\N  ...   0   \n8210  10.5  https://royjr.com  ...   1   \n\n     Pajunen MI, Kiljunen SJ, Söderholm ME, Skurnik M. Complete genomic sequence of the lytic bacteriophage phiYeO3-12 of Yersinia enterocolitica serotype O:3. J Bacteriol. 2001 Mar;183(6):1928-37.______http://www.ncbi.nlm.nih.gov/genome/?term=txid110457______http://www.phisite.org/main/index.php?nav=phages&nav_sel=features&phage_id=NC_001271%3B39600%3B1%3B1%3B1&ID=null&begin=begin&end=end&strand=both.2  \\\n8206      http://www.bacterio.net/thioalkalivibrio.html                                                                                                                                                                                                                                                                                                                                                                  \n8207                                                 \\N                                                                                                                                                                                                                                                                                                                                                                  \n8208  https://img.jgi.doe.gov/cgi-bin/m/main.cgi?sec...                                                                                                                                                                                                                                                                                                                                                                  \n8209  Bondy-Denomy et al. 2013 (URL: http://ezproxy....                                                                                                                                                                                                                                                                                                                                                                  \n8210                                  https://royjr.com                                                                                                                                                                                                                                                                                                                                                                  \n\n     \\N.8                                               \\N.9 \\N.10  \\\n8206    0      http://www.bacterio.net/thioalkalivibrio.html    \\N   \n8207    0         http://www.rxpgonline.com/article1169.html     1   \n8208    1  https://img.jgi.doe.gov/cgi-bin/m/main.cgi?sec...     0   \n8209   \\N                                                 \\N     0   \n8210    2                                  https://royjr.com     0   \n\n                                                  \\N.11 0.3  \\\n8206                                                 \\N  \\N   \n8207  https://microbewiki.kenyon.edu/index.php/Burkh...   0   \n8208  https://img.jgi.doe.gov/cgi-bin/m/main.cgi?sec...   0   \n8209  Bondy-Denomy et al. 2013 (URL: http://ezproxy....   0   \n8210                                  https://royjr.com   1   \n\n     Pajunen MI, Kiljunen SJ, Söderholm ME, Skurnik M. Complete genomic sequence of the lytic bacteriophage phiYeO3-12 of Yersinia enterocolitica serotype O:3. J Bacteriol. 2001 Mar;183(6):1928-37.______http://www.ncbi.nlm.nih.gov/genome/?term=txid110457______http://www.phisite.org/main/index.php?nav=phages&nav_sel=features&phage_id=NC_001271%3B39600%3B1%3B1%3B1&ID=null&begin=begin&end=end&strand=both.3  \\\n8206                                                 \\N                                                                                                                                                                                                                                                                                                                                                                  \n8207  https://microbewiki.kenyon.edu/index.php/Burkh...                                                                                                                                                                                                                                                                                                                                                                  \n8208  https://img.jgi.doe.gov/cgi-bin/m/main.cgi?sec...                                                                                                                                                                                                                                                                                                                                                                  \n8209  Bondy-Denomy et al. 2013 (URL: http://ezproxy....                                                                                                                                                                                                                                                                                                                                                                  \n8210                                  https://royjr.com                                                                                                                                                                                                                                                                                                                                                                  \n\n     0.4  \\\n8206  \\N   \n8207   1   \n8208   0   \n8209   0   \n8210   1   \n\n     Pajunen MI, Kiljunen SJ, Söderholm ME, Skurnik M. Complete genomic sequence of the lytic bacteriophage phiYeO3-12 of Yersinia enterocolitica serotype O:3. J Bacteriol. 2001 Mar;183(6):1928-37.______http://www.ncbi.nlm.nih.gov/genome/?term=txid110457______http://www.phisite.org/main/index.php?nav=phages&nav_sel=features&phage_id=NC_001271%3B39600%3B1%3B1%3B1&ID=null&begin=begin&end=end&strand=both.4  \n8206                                                 \\N                                                                                                                                                                                                                                                                                                                                                                 \n8207  https://microbewiki.kenyon.edu/index.php/Burkh...                                                                                                                                                                                                                                                                                                                                                                 \n8208  https://img.jgi.doe.gov/cgi-bin/m/main.cgi?sec...                                                                                                                                                                                                                                                                                                                                                                 \n8209  Bondy-Denomy et al. 2013 (URL: http://ezproxy....                                                                                                                                                                                                                                                                                                                                                                 \n8210                                  https://royjr.com                                                                                                                                                                                                                                                                                                                                                                 \n\n[5 rows x 30 columns]",
      "text/html": "<div>\n<style scoped>\n    .dataframe tbody tr th:only-of-type {\n        vertical-align: middle;\n    }\n\n    .dataframe tbody tr th {\n        vertical-align: top;\n    }\n\n    .dataframe thead th {\n        text-align: right;\n    }\n</style>\n<table border=\"1\" class=\"dataframe\">\n  <thead>\n    <tr style=\"text-align: right;\">\n      <th></th>\n      <th>1</th>\n      <th>Viruses</th>\n      <th>Viruses noname</th>\n      <th>Viruses noname.1</th>\n      <th>Caudovirales</th>\n      <th>Podoviridae</th>\n      <th>T7likevirus</th>\n      <th>Yersinia phage phiYeO3 12</th>\n      <th>\\N</th>\n      <th>\\N.1</th>\n      <th>...</th>\n      <th>0.2</th>\n      <th>Pajunen MI, Kiljunen SJ, Söderholm ME, Skurnik M. Complete genomic sequence of the lytic bacteriophage phiYeO3-12 of Yersinia enterocolitica serotype O:3. J Bacteriol. 2001 Mar;183(6):1928-37.______http://www.ncbi.nlm.nih.gov/genome/?term=txid110457______http://www.phisite.org/main/index.php?nav=phages&amp;nav_sel=features&amp;phage_id=NC_001271%3B39600%3B1%3B1%3B1&amp;ID=null&amp;begin=begin&amp;end=end&amp;strand=both.2</th>\n      <th>\\N.8</th>\n      <th>\\N.9</th>\n      <th>\\N.10</th>\n      <th>\\N.11</th>\n      <th>0.3</th>\n      <th>Pajunen MI, Kiljunen SJ, Söderholm ME, Skurnik M. Complete genomic sequence of the lytic bacteriophage phiYeO3-12 of Yersinia enterocolitica serotype O:3. J Bacteriol. 2001 Mar;183(6):1928-37.______http://www.ncbi.nlm.nih.gov/genome/?term=txid110457______http://www.phisite.org/main/index.php?nav=phages&amp;nav_sel=features&amp;phage_id=NC_001271%3B39600%3B1%3B1%3B1&amp;ID=null&amp;begin=begin&amp;end=end&amp;strand=both.3</th>\n      <th>0.4</th>\n      <th>Pajunen MI, Kiljunen SJ, Söderholm ME, Skurnik M. Complete genomic sequence of the lytic bacteriophage phiYeO3-12 of Yersinia enterocolitica serotype O:3. J Bacteriol. 2001 Mar;183(6):1928-37.______http://www.ncbi.nlm.nih.gov/genome/?term=txid110457______http://www.phisite.org/main/index.php?nav=phages&amp;nav_sel=features&amp;phage_id=NC_001271%3B39600%3B1%3B1%3B1&amp;ID=null&amp;begin=begin&amp;end=end&amp;strand=both.4</th>\n    </tr>\n  </thead>\n  <tbody>\n    <tr>\n      <th>8206</th>\n      <td>7664</td>\n      <td>Bacteria</td>\n      <td>Proteobacteria</td>\n      <td>Gammaproteobacteria</td>\n      <td>Chromatiales</td>\n      <td>Ectothiorhodospiraceae</td>\n      <td>Thioalkalivibrio</td>\n      <td>Thioalkalivibrio sp ALJ3</td>\n      <td>\\N</td>\n      <td>\\N</td>\n      <td>...</td>\n      <td>1</td>\n      <td>http://www.bacterio.net/thioalkalivibrio.html</td>\n      <td>0</td>\n      <td>http://www.bacterio.net/thioalkalivibrio.html</td>\n      <td>\\N</td>\n      <td>\\N</td>\n      <td>\\N</td>\n      <td>\\N</td>\n      <td>\\N</td>\n      <td>\\N</td>\n    </tr>\n    <tr>\n      <th>8207</th>\n      <td>7665</td>\n      <td>Bacteria</td>\n      <td>Proteobacteria</td>\n      <td>Betaproteobacteria</td>\n      <td>Burkholderiales</td>\n      <td>Burkholderiaceae</td>\n      <td>Burkholderia</td>\n      <td>Burkholderia sp RPE64</td>\n      <td>\\N</td>\n      <td>\\N</td>\n      <td>...</td>\n      <td>\\N</td>\n      <td>\\N</td>\n      <td>0</td>\n      <td>http://www.rxpgonline.com/article1169.html</td>\n      <td>1</td>\n      <td>https://microbewiki.kenyon.edu/index.php/Burkh...</td>\n      <td>0</td>\n      <td>https://microbewiki.kenyon.edu/index.php/Burkh...</td>\n      <td>1</td>\n      <td>https://microbewiki.kenyon.edu/index.php/Burkh...</td>\n    </tr>\n    <tr>\n      <th>8208</th>\n      <td>7666</td>\n      <td>Bacteria</td>\n      <td>Actinobacteria</td>\n      <td>Actinobacteria</td>\n      <td>Actinomycetales</td>\n      <td>Streptomycetaceae</td>\n      <td>Streptomyces</td>\n      <td>Streptomyces ghanaensis</td>\n      <td>\\N</td>\n      <td>\\N</td>\n      <td>...</td>\n      <td>0</td>\n      <td>https://img.jgi.doe.gov/cgi-bin/m/main.cgi?sec...</td>\n      <td>1</td>\n      <td>https://img.jgi.doe.gov/cgi-bin/m/main.cgi?sec...</td>\n      <td>0</td>\n      <td>https://img.jgi.doe.gov/cgi-bin/m/main.cgi?sec...</td>\n      <td>0</td>\n      <td>https://img.jgi.doe.gov/cgi-bin/m/main.cgi?sec...</td>\n      <td>0</td>\n      <td>https://img.jgi.doe.gov/cgi-bin/m/main.cgi?sec...</td>\n    </tr>\n    <tr>\n      <th>8209</th>\n      <td>7667</td>\n      <td>Viruses</td>\n      <td>Viruses noname</td>\n      <td>Viruses noname</td>\n      <td>Caudovirales</td>\n      <td>Siphoviridae</td>\n      <td>Siphoviridae noname</td>\n      <td>Pseudomonas phage JBD24</td>\n      <td>\\N</td>\n      <td>\\N</td>\n      <td>...</td>\n      <td>0</td>\n      <td>Bondy-Denomy et al. 2013 (URL: http://ezproxy....</td>\n      <td>\\N</td>\n      <td>\\N</td>\n      <td>0</td>\n      <td>Bondy-Denomy et al. 2013 (URL: http://ezproxy....</td>\n      <td>0</td>\n      <td>Bondy-Denomy et al. 2013 (URL: http://ezproxy....</td>\n      <td>0</td>\n      <td>Bondy-Denomy et al. 2013 (URL: http://ezproxy....</td>\n    </tr>\n    <tr>\n      <th>8210</th>\n      <td>7668</td>\n      <td>qqq</td>\n      <td>www</td>\n      <td>eee</td>\n      <td>rrr</td>\n      <td>tttt</td>\n      <td>yyy</td>\n      <td>qqqaaaazzz</td>\n      <td>10.5</td>\n      <td>https://royjr.com</td>\n      <td>...</td>\n      <td>1</td>\n      <td>https://royjr.com</td>\n      <td>2</td>\n      <td>https://royjr.com</td>\n      <td>0</td>\n      <td>https://royjr.com</td>\n      <td>1</td>\n      <td>https://royjr.com</td>\n      <td>1</td>\n      <td>https://royjr.com</td>\n    </tr>\n  </tbody>\n</table>\n<p>5 rows × 30 columns</p>\n</div>"
     },
     "metadata": {},
     "output_type": "execute_result",
     "execution_count": 5
    }
   ],
   "source": [
    "data.tail()"
   ],
   "metadata": {
    "collapsed": false,
    "pycharm": {
     "name": "#%%\n",
     "is_executing": false
    }
   }
  },
  {
   "cell_type": "code",
   "execution_count": 6,
   "outputs": [
    {
     "data": {
      "text/plain": "      microbe_id   kingdom          phylum           class            order  \\\n7673        7674  Bacteria  Actinobacteria  Actinobacteria  Actinomycetales   \n7674        7675  Bacteria  Actinobacteria  Actinobacteria  Actinomycetales   \n7675        7676  Bacteria  Actinobacteria  Actinobacteria  Actinomycetales   \n7676        7677  Bacteria  Actinobacteria  Actinobacteria  Actinomycetales   \n7677        7678  Bacteria  Actinobacteria  Actinobacteria  Actinomycetales   \n\n                 family         genus                    species  gram_stain  \\\n7673  Streptomycetaceae  Streptomyces      Streptomyces lividans         NaN   \n7674  Streptomycetaceae  Streptomyces        Streptomyces niveus         NaN   \n7675  Streptomycetaceae  Streptomyces  Streptomyces scabrisporus         NaN   \n7676  Streptomycetaceae  Streptomyces       Streptomyces scabiei         NaN   \n7677  Streptomycetaceae  Streptomyces     Streptomyces purpureus         NaN   \n\n      gram_stain_citation  ...  optimal_ph  optimal_ph_citation  \\\n7673                  NaN  ...         NaN                  NaN   \n7674                  NaN  ...         NaN                  NaN   \n7675                  NaN  ...         NaN                  NaN   \n7676                  NaN  ...         NaN                  NaN   \n7677                  NaN  ...         NaN                  NaN   \n\n      animal_pathogen  animal_pathogen_citation  spore_forming  \\\n7673              NaN                       NaN            NaN   \n7674              NaN                       NaN            NaN   \n7675              NaN                       NaN            NaN   \n7676              NaN                       NaN            NaN   \n7677              NaN                       NaN            NaN   \n\n      spore_forming_citation  pathogenicity  pathogenicity_citation  \\\n7673                     NaN            NaN                     NaN   \n7674                     NaN            NaN                     NaN   \n7675                     NaN            NaN                     NaN   \n7676                     NaN            NaN                     NaN   \n7677                     NaN            NaN                     NaN   \n\n      plant_pathogen  plant_pathogen_citation  \n7673             NaN                      NaN  \n7674             NaN                      NaN  \n7675             NaN                      NaN  \n7676             NaN                      NaN  \n7677             NaN                      NaN  \n\n[5 rows x 30 columns]",
      "text/html": "<div>\n<style scoped>\n    .dataframe tbody tr th:only-of-type {\n        vertical-align: middle;\n    }\n\n    .dataframe tbody tr th {\n        vertical-align: top;\n    }\n\n    .dataframe thead th {\n        text-align: right;\n    }\n</style>\n<table border=\"1\" class=\"dataframe\">\n  <thead>\n    <tr style=\"text-align: right;\">\n      <th></th>\n      <th>microbe_id</th>\n      <th>kingdom</th>\n      <th>phylum</th>\n      <th>class</th>\n      <th>order</th>\n      <th>family</th>\n      <th>genus</th>\n      <th>species</th>\n      <th>gram_stain</th>\n      <th>gram_stain_citation</th>\n      <th>...</th>\n      <th>optimal_ph</th>\n      <th>optimal_ph_citation</th>\n      <th>animal_pathogen</th>\n      <th>animal_pathogen_citation</th>\n      <th>spore_forming</th>\n      <th>spore_forming_citation</th>\n      <th>pathogenicity</th>\n      <th>pathogenicity_citation</th>\n      <th>plant_pathogen</th>\n      <th>plant_pathogen_citation</th>\n    </tr>\n  </thead>\n  <tbody>\n    <tr>\n      <th>7673</th>\n      <td>7674</td>\n      <td>Bacteria</td>\n      <td>Actinobacteria</td>\n      <td>Actinobacteria</td>\n      <td>Actinomycetales</td>\n      <td>Streptomycetaceae</td>\n      <td>Streptomyces</td>\n      <td>Streptomyces lividans</td>\n      <td>NaN</td>\n      <td>NaN</td>\n      <td>...</td>\n      <td>NaN</td>\n      <td>NaN</td>\n      <td>NaN</td>\n      <td>NaN</td>\n      <td>NaN</td>\n      <td>NaN</td>\n      <td>NaN</td>\n      <td>NaN</td>\n      <td>NaN</td>\n      <td>NaN</td>\n    </tr>\n    <tr>\n      <th>7674</th>\n      <td>7675</td>\n      <td>Bacteria</td>\n      <td>Actinobacteria</td>\n      <td>Actinobacteria</td>\n      <td>Actinomycetales</td>\n      <td>Streptomycetaceae</td>\n      <td>Streptomyces</td>\n      <td>Streptomyces niveus</td>\n      <td>NaN</td>\n      <td>NaN</td>\n      <td>...</td>\n      <td>NaN</td>\n      <td>NaN</td>\n      <td>NaN</td>\n      <td>NaN</td>\n      <td>NaN</td>\n      <td>NaN</td>\n      <td>NaN</td>\n      <td>NaN</td>\n      <td>NaN</td>\n      <td>NaN</td>\n    </tr>\n    <tr>\n      <th>7675</th>\n      <td>7676</td>\n      <td>Bacteria</td>\n      <td>Actinobacteria</td>\n      <td>Actinobacteria</td>\n      <td>Actinomycetales</td>\n      <td>Streptomycetaceae</td>\n      <td>Streptomyces</td>\n      <td>Streptomyces scabrisporus</td>\n      <td>NaN</td>\n      <td>NaN</td>\n      <td>...</td>\n      <td>NaN</td>\n      <td>NaN</td>\n      <td>NaN</td>\n      <td>NaN</td>\n      <td>NaN</td>\n      <td>NaN</td>\n      <td>NaN</td>\n      <td>NaN</td>\n      <td>NaN</td>\n      <td>NaN</td>\n    </tr>\n    <tr>\n      <th>7676</th>\n      <td>7677</td>\n      <td>Bacteria</td>\n      <td>Actinobacteria</td>\n      <td>Actinobacteria</td>\n      <td>Actinomycetales</td>\n      <td>Streptomycetaceae</td>\n      <td>Streptomyces</td>\n      <td>Streptomyces scabiei</td>\n      <td>NaN</td>\n      <td>NaN</td>\n      <td>...</td>\n      <td>NaN</td>\n      <td>NaN</td>\n      <td>NaN</td>\n      <td>NaN</td>\n      <td>NaN</td>\n      <td>NaN</td>\n      <td>NaN</td>\n      <td>NaN</td>\n      <td>NaN</td>\n      <td>NaN</td>\n    </tr>\n    <tr>\n      <th>7677</th>\n      <td>7678</td>\n      <td>Bacteria</td>\n      <td>Actinobacteria</td>\n      <td>Actinobacteria</td>\n      <td>Actinomycetales</td>\n      <td>Streptomycetaceae</td>\n      <td>Streptomyces</td>\n      <td>Streptomyces purpureus</td>\n      <td>NaN</td>\n      <td>NaN</td>\n      <td>...</td>\n      <td>NaN</td>\n      <td>NaN</td>\n      <td>NaN</td>\n      <td>NaN</td>\n      <td>NaN</td>\n      <td>NaN</td>\n      <td>NaN</td>\n      <td>NaN</td>\n      <td>NaN</td>\n      <td>NaN</td>\n    </tr>\n  </tbody>\n</table>\n<p>5 rows × 30 columns</p>\n</div>"
     },
     "metadata": {},
     "output_type": "execute_result",
     "execution_count": 6
    }
   ],
   "source": [
    "data2.tail()"
   ],
   "metadata": {
    "collapsed": false,
    "pycharm": {
     "name": "#%%\n",
     "is_executing": false
    }
   }
  },
  {
   "cell_type": "markdown",
   "source": [
    "Ok. Looks like the SQL dump has some cruft in it, like a row where the kingdom is `qqq` and a bunch of rows where there where line breaks in titles, unescaped quotes, etc. So I'm calling it unclean and using the data from github instead.\n",
    "\n",
    "## Exploring the data"
   ],
   "metadata": {
    "collapsed": false,
    "pycharm": {
     "name": "#%% md\n"
    }
   }
  },
  {
   "cell_type": "code",
   "execution_count": 7,
   "outputs": [
    {
     "name": "stdout",
     "text": [
      "==================\n",
      "microbe_id: int64\n",
      "\n",
      "min: 1\n",
      "median: 3839.5\n",
      "max: 7678\n",
      "std: 2216.5920162868642\n",
      "Nulls: 0\n",
      "------------------\n",
      "==================\n",
      "kingdom: object\n",
      "\n",
      "Bacteria     3849\n",
      "Viruses      3449\n",
      "Archaea       228\n",
      "Eukaryota     111\n",
      "Viroids        41\n",
      "Name: kingdom, dtype: int64\n",
      "Nulls: 0\n",
      "------------------\n",
      "==================\n",
      "phylum: object\n",
      "\n",
      "Viruses noname                 3449\n",
      "Proteobacteria                 1626\n",
      "Firmicutes                      833\n",
      "Actinobacteria                  601\n",
      "Bacteroidetes                   309\n",
      "Euryarchaeota                   176\n",
      "Cyanobacteria                   123\n",
      "Spirochaetes                     73\n",
      "Ascomycota                       65\n",
      "Tenericutes                      56\n",
      "Viroids noname                   41\n",
      "Crenarchaeota                    38\n",
      "Deinococcus Thermus              25\n",
      "Fusobacteria                     21\n",
      "Verrucomicrobia                  20\n",
      "Planctomycetes                   17\n",
      "Thermotogae                      17\n",
      "Eukaryota noname                 16\n",
      "Chloroflexi                      16\n",
      "Apicomplexa                      15\n",
      "Aquificae                        14\n",
      "Chlamydiae                       14\n",
      "Synergistetes                    13\n",
      "Chlorobi                         11\n",
      "Thaumarchaeota                   11\n",
      "Acidobacteria                     9\n",
      "Basidiomycota                     8\n",
      "Marinimicrobia                    7\n",
      "Deferribacteres                   6\n",
      "Bacteria noname                   6\n",
      "Nitrospirae                       5\n",
      "Microsporidia                     5\n",
      "Nitrospinae                       4\n",
      "Thermodesulfobacteria             4\n",
      "Candidatus Saccharibacteria       4\n",
      "Poribacteria                      3\n",
      "Bacillariophyta                   2\n",
      "Dictyoglomi                       2\n",
      "Ignavibacteriae                   2\n",
      "Gemmatimonadetes                  1\n",
      "Chrysiogenetes                    1\n",
      "Elusimicrobia                     1\n",
      "Lentisphaerae                     1\n",
      "Korarchaeota                      1\n",
      "Cloacimonetes                     1\n",
      "Archaea noname                    1\n",
      "Nanoarchaeota                     1\n",
      "Armatimonadetes                   1\n",
      "Fibrobacteres                     1\n",
      "Caldiserica                       1\n",
      "Name: phylum, dtype: int64\n",
      "Nulls: 0\n",
      "------------------\n",
      "==================\n",
      "class: object\n",
      "\n",
      "Viruses noname         3449\n",
      "Gammaproteobacteria     814\n",
      "Actinobacteria          601\n",
      "Bacilli                 445\n",
      "Alphaproteobacteria     441\n",
      "                       ... \n",
      "Phycisphaerae             1\n",
      "Caldilineae               1\n",
      "Firmicutes noname         1\n",
      "Caldisericia              1\n",
      "Holophagae                1\n",
      "Name: class, Length: 100, dtype: int64\n",
      "Nulls: 0\n",
      "------------------\n",
      "==================\n",
      "order: object\n",
      "\n",
      "Viruses noname       2075\n",
      "Caudovirales          932\n",
      "Actinomycetales       532\n",
      "Clostridiales         261\n",
      "Bacillales            227\n",
      "                     ... \n",
      "Ktedonobacterales       1\n",
      "Firmicutes noname       1\n",
      "Salinisphaerales        1\n",
      "Dehalococcoidales       1\n",
      "Desulfarculales         1\n",
      "Name: order, Length: 197, dtype: int64\n",
      "Nulls: 0\n",
      "------------------\n",
      "==================\n",
      "family: object\n",
      "\n",
      "Siphoviridae             481\n",
      "Viruses noname           379\n",
      "Geminiviridae            346\n",
      "Myoviridae               253\n",
      "Podoviridae              180\n",
      "                        ... \n",
      "Methanocorpusculaceae      1\n",
      "Korarchaeota noname        1\n",
      "Roniviridae                1\n",
      "Caldisericaceae            1\n",
      "Ignavibacteriaceae         1\n",
      "Name: family, Length: 481, dtype: int64\n",
      "Nulls: 0\n",
      "------------------\n",
      "==================\n",
      "genus: object\n",
      "\n",
      "Siphoviridae noname     419\n",
      "Viruses noname          339\n",
      "Begomovirus             301\n",
      "Myoviridae noname       125\n",
      "Streptomyces            101\n",
      "                       ... \n",
      "Desulfobacca              1\n",
      "Thermosinus               1\n",
      "Thermosediminibacter      1\n",
      "Anaeromusa                1\n",
      "Ornithinibacillus         1\n",
      "Name: genus, Length: 1670, dtype: int64\n",
      "Nulls: 0\n",
      "------------------\n",
      "==================\n",
      "species: object\n",
      "\n",
      "Lambdapapillomavirus 3                  1\n",
      "Corynebacterium pseudodiphtheriticum    1\n",
      "Plantago asiatica mosaic virus          1\n",
      "Grapevine virus B                       1\n",
      "Adeno associated virus 3                1\n",
      "                                       ..\n",
      "Wolinella succinogenes                  1\n",
      "Bacillus phage BMBtp2                   1\n",
      "Mycoplasma mobile                       1\n",
      "Oceanimonas smirnovii                   1\n",
      "Cellulophaga phage phi18 1              1\n",
      "Name: species, Length: 7678, dtype: int64\n",
      "Nulls: 0\n",
      "------------------\n",
      "==================\n",
      "gram_stain: float64\n",
      "\n",
      "min: 0.0\n",
      "median: 0.3517981438515081\n",
      "max: 2.0\n",
      "std: 0.48781760358013854\n",
      "Nulls: 4230\n",
      "------------------\n",
      "==================\n",
      "gram_stain_citation: float64\n",
      "\n",
      "min: nan\n",
      "median: nan\n",
      "max: nan\n",
      "std: nan\n",
      "Nulls: 7678\n",
      "------------------\n",
      "==================\n",
      "microbiome_location: float64\n",
      "\n",
      "min: 0.0\n",
      "median: 0.20029579547855483\n",
      "max: 1.0\n",
      "std: 0.40026396243097984\n",
      "Nulls: 2945\n",
      "------------------\n",
      "==================\n",
      "microbiome_location_citation: float64\n",
      "\n",
      "min: nan\n",
      "median: nan\n",
      "max: nan\n",
      "std: nan\n",
      "Nulls: 7678\n",
      "------------------\n",
      "==================\n",
      "antimicrobial_susceptibility: float64\n",
      "\n",
      "min: 0.0\n",
      "median: 0.3945380592678675\n",
      "max: 1.0\n",
      "std: 0.48889330276318615\n",
      "Nulls: 5957\n",
      "------------------\n",
      "==================\n",
      "antimicrobial_susceptibility_citation: float64\n",
      "\n",
      "min: nan\n",
      "median: nan\n",
      "max: nan\n",
      "std: nan\n",
      "Nulls: 7678\n",
      "------------------\n",
      "==================\n",
      "optimal_temperature: float64\n",
      "\n",
      "min: -70.0\n",
      "median: 35.871107377180344\n",
      "max: 121.0\n",
      "std: 14.30671320711474\n",
      "Nulls: 5595\n",
      "------------------\n",
      "==================\n",
      "optimal_temperature_citation: float64\n",
      "\n",
      "min: nan\n",
      "median: nan\n",
      "max: nan\n",
      "std: nan\n",
      "Nulls: 7678\n",
      "------------------\n",
      "==================\n",
      "extreme_environment: float64\n",
      "\n",
      "min: 0.0\n",
      "median: 0.1886505978364016\n",
      "max: 1.0\n",
      "std: 0.3912679449383247\n",
      "Nulls: 2409\n",
      "------------------\n",
      "==================\n",
      "extreme_environment_citation: float64\n",
      "\n",
      "min: nan\n",
      "median: nan\n",
      "max: nan\n",
      "std: nan\n",
      "Nulls: 7678\n",
      "------------------\n",
      "==================\n",
      "biofilm_forming: float64\n",
      "\n",
      "min: 0.0\n",
      "median: 0.26535480023852115\n",
      "max: 1.0\n",
      "std: 0.441653646934734\n",
      "Nulls: 6001\n",
      "------------------\n",
      "==================\n",
      "biofilm_forming_citation: float64\n",
      "\n",
      "min: nan\n",
      "median: nan\n",
      "max: nan\n",
      "std: nan\n",
      "Nulls: 7678\n",
      "------------------\n",
      "==================\n",
      "optimal_ph: float64\n",
      "\n",
      "min: -1.5\n",
      "median: 7.113242400623539\n",
      "max: 12.25\n",
      "std: 1.4388764417680358\n",
      "Nulls: 6395\n",
      "------------------\n",
      "==================\n",
      "optimal_ph_citation: float64\n",
      "\n",
      "min: nan\n",
      "median: nan\n",
      "max: nan\n",
      "std: nan\n",
      "Nulls: 7678\n",
      "------------------\n",
      "==================\n",
      "animal_pathogen: float64\n",
      "\n",
      "min: 0.0\n",
      "median: 0.27429300446523497\n",
      "max: 1.0\n",
      "std: 0.44620475856649666\n",
      "Nulls: 2975\n",
      "------------------\n",
      "==================\n",
      "animal_pathogen_citation: float64\n",
      "\n",
      "min: nan\n",
      "median: nan\n",
      "max: nan\n",
      "std: nan\n",
      "Nulls: 7678\n",
      "------------------\n",
      "==================\n",
      "spore_forming: float64\n",
      "\n",
      "min: 0.0\n",
      "median: 0.1607867624102404\n",
      "max: 1.0\n",
      "std: 0.36739150793062664\n",
      "Nulls: 4475\n",
      "------------------\n",
      "==================\n",
      "spore_forming_citation: float64\n",
      "\n",
      "min: nan\n",
      "median: nan\n",
      "max: nan\n",
      "std: nan\n",
      "Nulls: 7678\n",
      "------------------\n",
      "==================\n",
      "pathogenicity: float64\n",
      "\n",
      "min: 1.0\n",
      "median: 1.526448362720403\n",
      "max: 3.0\n",
      "std: 0.557861368164686\n",
      "Nulls: 6090\n",
      "------------------\n",
      "==================\n",
      "pathogenicity_citation: float64\n",
      "\n",
      "min: nan\n",
      "median: nan\n",
      "max: nan\n",
      "std: nan\n",
      "Nulls: 7678\n",
      "------------------\n",
      "==================\n",
      "plant_pathogen: float64\n",
      "\n",
      "min: 0.0\n",
      "median: 0.2269108280254777\n",
      "max: 1.0\n",
      "std: 0.4188761487141132\n",
      "Nulls: 2654\n",
      "------------------\n",
      "==================\n",
      "plant_pathogen_citation: object\n",
      "\n",
      "https://www.ncbi.nlm.nih.gov/pmc/articles/PMC4036549/    1\n",
      "Name: plant_pathogen_citation, dtype: int64\n",
      "Nulls: 7677\n",
      "------------------\n"
     ],
     "output_type": "stream"
    }
   ],
   "source": [
    "data = data2\n",
    "columnDatatypes = data.dtypes\n",
    "\n",
    "for i, v in columnDatatypes.iteritems():\n",
    "    print('==================')\n",
    "    print(f'{i}: {v}\\n')\n",
    "    \n",
    "    if data[i].dtype.name in ['object', 'category']:\n",
    "        print(data[i].value_counts())\n",
    "\n",
    "    else:\n",
    "        print(f'min: {data[i].min()}')\n",
    "        print(f'median: {data[i].mean()}')\n",
    "        print(f'max: {data[i].max()}')\n",
    "        print(f'std: {data[i].std()}')\n",
    "    \n",
    "    print(f'Nulls: {data[i].isnull().sum()}')\n",
    "    print('------------------')"
   ],
   "metadata": {
    "collapsed": false,
    "pycharm": {
     "name": "#%%\n",
     "is_executing": false
    }
   }
  },
  {
   "cell_type": "markdown",
   "source": [
    "### Resetting data types\n",
    "A bunch of these columns are being pulled in as float64, but they're really boolean, all the citations should be strings (objects in Pandas land), and there are some categoricals that aren't marked as such."
   ],
   "metadata": {
    "collapsed": false,
    "pycharm": {
     "name": "#%% md\n"
    }
   }
  },
  {
   "cell_type": "code",
   "execution_count": 8,
   "outputs": [],
   "source": [
    "## manually set some column types\n",
    "columnTypes = {\n",
    "    'gram_stain': 'category',\n",
    "    'microbiome_location': 'bool',\n",
    "    'antimicrobial_susceptibility': 'bool',\n",
    "    'extreme_environment': 'bool',\n",
    "    'biofilm_forming': 'bool',\n",
    "    'animal_pathogen': 'bool',\n",
    "    'spore_forming': 'bool',\n",
    "    'pathogenicity': 'category',\n",
    "    'plant_pathogen': 'bool'\n",
    "}\n",
    "\n",
    "## Convert citation columns to object/strings.\n",
    "citationColumns = {key: 'object' for key in data.columns if key.find('_citation') != -1}\n",
    "\n",
    "convertedData = data.astype({**columnTypes, **citationColumns}, copy=False)\n"
   ],
   "metadata": {
    "collapsed": false,
    "pycharm": {
     "name": "#%%\n",
     "is_executing": false
    }
   }
  },
  {
   "cell_type": "code",
   "execution_count": 9,
   "outputs": [
    {
     "data": {
      "text/plain": "microbe_id                                  int64\nkingdom                                    object\nphylum                                     object\nclass                                      object\norder                                      object\nfamily                                     object\ngenus                                      object\nspecies                                    object\ngram_stain                               category\ngram_stain_citation                        object\nmicrobiome_location                          bool\nmicrobiome_location_citation               object\nantimicrobial_susceptibility                 bool\nantimicrobial_susceptibility_citation      object\noptimal_temperature                       float64\noptimal_temperature_citation               object\nextreme_environment                          bool\nextreme_environment_citation               object\nbiofilm_forming                              bool\nbiofilm_forming_citation                   object\noptimal_ph                                float64\noptimal_ph_citation                        object\nanimal_pathogen                              bool\nanimal_pathogen_citation                   object\nspore_forming                                bool\nspore_forming_citation                     object\npathogenicity                            category\npathogenicity_citation                     object\nplant_pathogen                               bool\nplant_pathogen_citation                    object\ndtype: object"
     },
     "metadata": {},
     "output_type": "execute_result",
     "execution_count": 9
    }
   ],
   "source": [
    "convertedData.dtypes"
   ],
   "metadata": {
    "collapsed": false,
    "pycharm": {
     "name": "#%%\n",
     "is_executing": false
    }
   }
  },
  {
   "cell_type": "code",
   "execution_count": 10,
   "outputs": [
    {
     "name": "stdout",
     "text": [
      "microbiome_location  False  True \n",
      "kingdom                          \n",
      "Archaea                206     22\n",
      "Bacteria              1972   1877\n",
      "Eukaryota               95     16\n",
      "Viroids                  0     41\n",
      "Viruses               1512   1937\n",
      "antimicrobial_susceptibility  False  True \n",
      "kingdom                                   \n",
      "Archaea                           0    228\n",
      "Bacteria                        518   3331\n",
      "Eukaryota                        57     54\n",
      "Viroids                           0     41\n",
      "Viruses                         467   2982\n",
      "extreme_environment  False  True \n",
      "kingdom                          \n",
      "Archaea                 37    191\n",
      "Bacteria              1985   1864\n",
      "Eukaryota               89     22\n",
      "Viroids                 41      0\n",
      "Viruses               2123   1326\n",
      "biofilm_forming  False  True \n",
      "kingdom                      \n",
      "Archaea              0    228\n",
      "Bacteria           219   3630\n",
      "Eukaryota           24     87\n",
      "Viroids             41      0\n",
      "Viruses            948   2501\n",
      "animal_pathogen  False  True \n",
      "kingdom                      \n",
      "Archaea            171     57\n",
      "Bacteria          1458   2391\n",
      "Eukaryota           67     44\n",
      "Viroids             41      0\n",
      "Viruses           1676   1773\n",
      "spore_forming  False  True \n",
      "kingdom                    \n",
      "Archaea           11    217\n",
      "Bacteria        1670   2179\n",
      "Eukaryota         17     94\n",
      "Viroids           41      0\n",
      "Viruses          949   2500\n",
      "plant_pathogen  False  True \n",
      "kingdom                     \n",
      "Archaea           172     56\n",
      "Bacteria         2011   1838\n",
      "Eukaryota          81     30\n",
      "Viroids             0     41\n",
      "Viruses          1620   1829\n"
     ],
     "output_type": "stream"
    }
   ],
   "source": [
    "crosstabColumns = [\n",
    "    'microbiome_location',\n",
    "    'antimicrobial_susceptibility',\n",
    "    'extreme_environment',\n",
    "    'biofilm_forming',\n",
    "    'animal_pathogen',\n",
    "    'spore_forming',\n",
    "    'plant_pathogen'\n",
    "]\n",
    "\n",
    "for col in crosstabColumns:\n",
    "    print(pd.crosstab(convertedData.kingdom, convertedData[col], dropna=False))"
   ],
   "metadata": {
    "collapsed": false,
    "pycharm": {
     "name": "#%%\n",
     "is_executing": false
    }
   }
  },
  {
   "cell_type": "code",
   "execution_count": 11,
   "outputs": [
    {
     "data": {
      "text/plain": "(240.06628004181678,\n 8.977883053295579e-51,\n 4,\n array([[ 101.34983069,  126.65016931],\n        [1710.94516801, 2138.05483199],\n        [  49.34136494,   61.65863506],\n        [  18.22518885,   22.77481115],\n        [1533.13844751, 1915.86155249]]))"
     },
     "metadata": {},
     "output_type": "execute_result",
     "execution_count": 11
    }
   ],
   "source": [
    "# chi-square tests to see if correlation between kingdom and animal pathogenicity\n",
    "\n",
    "contingencies = pd.crosstab(convertedData.kingdom, convertedData.animal_pathogen)\n",
    "\n",
    "stats.chi2_contingency(contingencies)"
   ],
   "metadata": {
    "collapsed": false,
    "pycharm": {
     "name": "#%%\n",
     "is_executing": false
    }
   }
  },
  {
   "cell_type": "code",
   "execution_count": 14,
   "outputs": [],
   "source": [
    "archaea = stats.chisquare(contingencies.iloc[0])\n",
    "bacteria = stats.chisquare(contingencies.iloc[1])\n",
    "eukaryota = stats.chisquare(contingencies.iloc[2])\n",
    "viroids = stats.chisquare(contingencies.iloc[3])\n",
    "viruses = stats.chisquare(contingencies.iloc[4])"
   ],
   "metadata": {
    "collapsed": false,
    "pycharm": {
     "name": "#%%\n",
     "is_executing": false
    }
   }
  },
  {
   "cell_type": "code",
   "execution_count": 16,
   "outputs": [
    {
     "name": "stdout",
     "text": [
      "animal_pathogen  False  True \n",
      "kingdom                      \n",
      "Archaea            171     57\n",
      "Bacteria          1458   2391\n",
      "Eukaryota           67     44\n",
      "Viroids             41      0\n",
      "Viruses           1676   1773\n",
      "Power_divergenceResult(statistic=57.0, pvalue=4.3581190270320824e-14)\n",
      "Power_divergenceResult(statistic=226.1597817614965, pvalue=4.1007210586066347e-51)\n",
      "Power_divergenceResult(statistic=4.7657657657657655, pvalue=0.029031142135425358)\n",
      "Power_divergenceResult(statistic=41.0, pvalue=1.5222921962563087e-10)\n",
      "Power_divergenceResult(statistic=2.7280371122064366, pvalue=0.09860040143630405)\n"
     ],
     "output_type": "stream"
    }
   ],
   "source": [
    "print(contingencies)\n",
    "print(archaea)\n",
    "print(bacteria)\n",
    "print(eukaryota)\n",
    "print(viroids)\n",
    "print(viruses)\n",
    "\n",
    "\n",
    "\n"
   ],
   "metadata": {
    "collapsed": false,
    "pycharm": {
     "name": "#%%\n",
     "is_executing": false
    }
   }
  }
 ],
 "metadata": {
  "kernelspec": {
   "display_name": "Python 3",
   "language": "python",
   "name": "python3"
  },
  "language_info": {
   "codemirror_mode": {
    "name": "ipython",
    "version": 2
   },
   "file_extension": ".py",
   "mimetype": "text/x-python",
   "name": "python",
   "nbconvert_exporter": "python",
   "pygments_lexer": "ipython2",
   "version": "2.7.6"
  },
  "pycharm": {
   "stem_cell": {
    "cell_type": "raw",
    "source": [],
    "metadata": {
     "collapsed": false
    }
   }
  }
 },
 "nbformat": 4,
 "nbformat_minor": 0
}